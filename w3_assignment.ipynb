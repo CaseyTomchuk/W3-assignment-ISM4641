{
  "nbformat": 4,
  "nbformat_minor": 0,
  "metadata": {
    "colab": {
      "provenance": [],
      "authorship_tag": "ABX9TyOjZ6MZbq4BxPExSgQ14yc/",
      "include_colab_link": true
    },
    "kernelspec": {
      "name": "python3",
      "display_name": "Python 3"
    },
    "language_info": {
      "name": "python"
    }
  },
  "cells": [
    {
      "cell_type": "markdown",
      "metadata": {
        "id": "view-in-github",
        "colab_type": "text"
      },
      "source": [
        "<a href=\"https://colab.research.google.com/github/CaseyTomchuk/W3-assignment-ISM4641/blob/main/w3_assignment.ipynb\" target=\"_parent\"><img src=\"https://colab.research.google.com/assets/colab-badge.svg\" alt=\"Open In Colab\"/></a>"
      ]
    },
    {
      "cell_type": "markdown",
      "source": [
        "The Summit Exports Scenario\n",
        "Summit Exports is a fictional logistics company shipping specialized items to various destinations. Your tasks:\n",
        "\n",
        "Use Tuples to store information about containers (container IDs, coordinates, fragile status, etc.).\n",
        "Use Sets to manage the list of unique destinations.\n",
        "Apply loops (such as for or while) and conditional statements (if, elif, else) to demonstrate membership checks and data manipulations in sets.\n",
        "Present the results in a clear, step-by-step manner, using print statements and f-strings."
      ],
      "metadata": {
        "id": "munVquLvJ2Vo"
      }
    },
    {
      "cell_type": "markdown",
      "source": [
        "The Summit Exports Scenario\n",
        "Summit Exports is a fictional logistics company shipping specialized items to various destinations. Your tasks:\n",
        "\n",
        "Use Tuples to store information about containers (container IDs, coordinates, fragile status, etc.).\n",
        "Use Sets to manage the list of unique destinations.\n",
        "Apply loops (such as for or while) and conditional statements (if, elif, else) to demonstrate membership checks and data manipulations in sets.\n",
        "Present the results in a clear, step-by-step manner, using print statements and f-strings."
      ],
      "metadata": {
        "id": "sBeAlNI6J30h"
      }
    },
    {
      "cell_type": "code",
      "execution_count": null,
      "metadata": {
        "colab": {
          "base_uri": "https://localhost:8080/"
        },
        "id": "ejcKBT0oJpzH",
        "outputId": "c28d56e9-5532-4f56-c091-255110823eaa"
      },
      "outputs": [
        {
          "output_type": "stream",
          "name": "stdout",
          "text": [
            "Container A: ('CONT-101', 40.7128, -74.006, True)\n",
            "Container B: ('CONT-102', 34.0522, -118.2437, False)\n",
            "Container C: ('CONT-103', 41.8781, -87.6298, True)\n"
          ]
        }
      ],
      "source": [
        "# Task 1, container data\n",
        "container_a = ('CONT-101', 40.7128, -74.006, True)\n",
        "container_b =('CONT-102', 34.0522, -118.2437, False)\n",
        "container_c = ('CONT-103', 41.8781, -87.6298, True)\n",
        "\n",
        "print(\"Container A:\", container_a)\n",
        "print(\"Container B:\", container_b)\n",
        "print(\"Container C:\", container_c)\n",
        "\n",
        "#container_a[1] = 41.0"
      ]
    }
  ]
}
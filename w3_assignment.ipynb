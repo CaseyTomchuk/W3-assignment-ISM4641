{
  "nbformat": 4,
  "nbformat_minor": 0,
  "metadata": {
    "colab": {
      "provenance": [],
      "authorship_tag": "ABX9TyNozTBgAVpiHc5Ju3mhnzQo",
      "include_colab_link": true
    },
    "kernelspec": {
      "name": "python3",
      "display_name": "Python 3"
    },
    "language_info": {
      "name": "python"
    }
  },
  "cells": [
    {
      "cell_type": "markdown",
      "metadata": {
        "id": "view-in-github",
        "colab_type": "text"
      },
      "source": [
        "<a href=\"https://colab.research.google.com/github/CaseyTomchuk/W3-assignment-ISM4641/blob/main/w3_assignment.ipynb\" target=\"_parent\"><img src=\"https://colab.research.google.com/assets/colab-badge.svg\" alt=\"Open In Colab\"/></a>"
      ]
    },
    {
      "cell_type": "markdown",
      "source": [
        "The Summit Exports Scenario\n",
        "Summit Exports is a fictional logistics company shipping specialized items to various destinations. Your tasks:\n",
        "\n",
        "Use Tuples to store information about containers (container IDs, coordinates, fragile status, etc.).\n",
        "Use Sets to manage the list of unique destinations.\n",
        "Apply loops (such as for or while) and conditional statements (if, elif, else) to demonstrate membership checks and data manipulations in sets.\n",
        "Present the results in a clear, step-by-step manner, using print statements and f-strings."
      ],
      "metadata": {
        "id": "munVquLvJ2Vo"
      }
    },
    {
      "cell_type": "markdown",
      "source": [
        "The Summit Exports Scenario\n",
        "Summit Exports is a fictional logistics company shipping specialized items to various destinations. Your tasks:\n",
        "\n",
        "Use Tuples to store information about containers (container IDs, coordinates, fragile status, etc.).\n",
        "Use Sets to manage the list of unique destinations.\n",
        "Apply loops (such as for or while) and conditional statements (if, elif, else) to demonstrate membership checks and data manipulations in sets.\n",
        "Present the results in a clear, step-by-step manner, using print statements and f-strings."
      ],
      "metadata": {
        "id": "sBeAlNI6J30h"
      }
    },
    {
      "cell_type": "code",
      "execution_count": 10,
      "metadata": {
        "colab": {
          "base_uri": "https://localhost:8080/"
        },
        "id": "ejcKBT0oJpzH",
        "outputId": "5dcccdff-4256-48f7-8df5-ae66cb01e4ad"
      },
      "outputs": [
        {
          "output_type": "stream",
          "name": "stdout",
          "text": [
            "Container A: ('CONT-101', 40.7128, -74.006, True)\n",
            "Container B: ('CONT-102', 34.0522, -118.2437, False)\n",
            "Container C: ('CONT-103', 41.8781, -87.6298, True)\n",
            "'tuple' object does not support item assignment\n",
            "\n",
            "Container ID: CONT-101, Latitude: 40.7128 Longitude: -74.006, Fragile: True\n"
          ]
        }
      ],
      "source": [
        "# Task 1, container data\n",
        "container_a = ('CONT-101', 40.7128, -74.006, True)\n",
        "container_b =('CONT-102', 34.0522, -118.2437, False)\n",
        "container_c = ('CONT-103', 41.8781, -87.6298, True)\n",
        "\n",
        "print(\"Container A:\", container_a)\n",
        "print(\"Container B:\", container_b)\n",
        "print(\"Container C:\", container_c)\n",
        "\n",
        "try:\n",
        "  container_a[1] = 41.0\n",
        "except Exception as e:\n",
        "  print(e) # *\n",
        "\n",
        "  cont_id, lat, lng, fragile = container_a # **\n",
        "\n",
        "  print(f'\\nContainer ID: {cont_id}, Latitude: {lat} Longitude: {lng}, Fragile: {fragile}')"
      ]
    },
    {
      "cell_type": "markdown",
      "source": [
        "`*` tuples are immutable, you can't add, remove, or reassign items in it. The error message for reassignment is: 'tuple' object does not support item assignment.\n",
        "\n",
        "`**` tuple unpacking feels very easy to understand, as the placement of the = is the reverse of defining a tuple\n"
      ],
      "metadata": {
        "id": "0WLWEOU-NK2B"
      }
    },
    {
      "cell_type": "code",
      "source": [
        "# Task 2: Processing Container Data\n",
        "\n",
        "def calculate_shipping_cost(distance, weight, is_fragile):\n",
        "    base_cost = distance * 0.5 + weight * 0.1\n",
        "    if is_fragile:\n",
        "        base_cost *= 1.5  # 50% surcharge for fragile items\n",
        "    return base_cost\n",
        "\n",
        "print(f\"Cost: {calculate_shipping_cost(250, 15, True)}\\n\")\n",
        "\n",
        "def display_container(container_tuple):\n",
        "    cont_id, lat, lng, is_fragile = container_tuple\n",
        "    print(f\"Container {cont_id}:\")\n",
        "    print(f\"  Location: ({lat}, {lng})\")\n",
        "    print(f\"  Fragile: {is_fragile}\")\n",
        "\n",
        "display_container(container_a)\n",
        "display_container(container_b)\n",
        "display_container(container_c)\n",
        "\n",
        "def calculate_distance(lat1, lng1, lat2, lng2):\n",
        "    # Simplified distance calculation\n",
        "    distance = ((lat2 - lat1)**2 + (lng2 - lng1)**2)**0.5\n",
        "    return distance * 100  # Scale up for realistic distances\n",
        "\n",
        "def generate_tracking_code(container_id, prefix=\"TRK\", year=2025):\n",
        "    return f\"{prefix}-{year}-{container_id}\"\n",
        "\n",
        "print(generate_tracking_code(\"CONT-101\", \"ABC\", 2024))\n",
        "print(generate_tracking_code(\"CONT-102\")) # *\n"
      ],
      "metadata": {
        "colab": {
          "base_uri": "https://localhost:8080/"
        },
        "id": "bzDYT8LNPcXg",
        "outputId": "3ed0aaab-f25c-4d9e-d7e2-ff4301e304ab"
      },
      "execution_count": 27,
      "outputs": [
        {
          "output_type": "stream",
          "name": "stdout",
          "text": [
            "Cost: 189.75\n",
            "\n",
            "Container CONT-101:\n",
            "  Location: (40.7128, -74.006)\n",
            "  Fragile: True\n",
            "Container CONT-102:\n",
            "  Location: (34.0522, -118.2437)\n",
            "  Fragile: False\n",
            "Container CONT-103:\n",
            "  Location: (41.8781, -87.6298)\n",
            "  Fragile: True\n",
            "ABC-2024-CONT-101\n",
            "TRK-2025-CONT-102\n"
          ]
        }
      ]
    },
    {
      "cell_type": "markdown",
      "source": [
        "`*` I learned I had to print here, since it will discard the previous function call if there is nothing telling the script to display it.\n",
        "\n",
        "generate_tracking_code needs at least a container_id but otherwise has can go back to default values"
      ],
      "metadata": {
        "id": "cfay4625sIIV"
      }
    },
    {
      "cell_type": "code",
      "source": [
        "# Task 3 Bringing It All Together\n",
        "\n",
        "containers = [container_a, container_b, container_c]\n",
        "\n",
        "destination = (37.7749, -122.4194)  # San Francisco\n",
        "\n",
        "destination_lat, destination_lng = destination\n",
        "\n",
        "print(\"\\n\")\n",
        "\n",
        "\n",
        "for container in containers:\n",
        "  display_container(container) # run display container on the current item in list\n",
        "  distance = calculate_distance(destination_lat, destination_lng, container[1], container[2]) #this variable will be used in calculate_shipping_cost\n",
        "  print(f\"Distance from destination: {distance}\")\n",
        "  print(f\"Shipping Cost: {calculate_shipping_cost(distance, 1000, container[3])}\\n\")  #[3] accessses the fragile boolean\n",
        "\n",
        "print(\"Tracking Codes\")\n",
        "# Using defaults\n",
        "code1 = generate_tracking_code(\"CONT-101\")\n",
        "print(code1)\n",
        "# Custom prefix\n",
        "code2 = generate_tracking_code(\"CONT-102\", prefix=\"EXP\")\n",
        "print(code2)\n",
        "# All custom\n",
        "code3 = generate_tracking_code(\"CONT-103\", \"RUSH\", 2024)\n",
        "print(code3)\n",
        "\n",
        "\n",
        "\n",
        "\n"
      ],
      "metadata": {
        "colab": {
          "base_uri": "https://localhost:8080/"
        },
        "id": "gRcVSK9BqUnY",
        "outputId": "100a2fe9-12dd-49d5-8a0c-ed03bb0cd453"
      },
      "execution_count": 42,
      "outputs": [
        {
          "output_type": "stream",
          "name": "stdout",
          "text": [
            "\n",
            "\n",
            "Container CONT-101:\n",
            "  Location: (40.7128, -74.006)\n",
            "  Fragile: True\n",
            "Distance from destination: 4850.245927754591\n",
            "Shipping Cost: 3787.6844458159435\n",
            "\n",
            "Container CONT-102:\n",
            "  Location: (34.0522, -118.2437)\n",
            "  Fragile: False\n",
            "Distance from destination: 559.4190359649907\n",
            "Shipping Cost: 379.70951798249536\n",
            "\n",
            "Container CONT-103:\n",
            "  Location: (41.8781, -87.6298)\n",
            "  Fragile: True\n",
            "Distance from destination: 3503.0736766445543\n",
            "Shipping Cost: 2777.3052574834155\n",
            "\n",
            "Tracking Codes\n",
            "TRK-2025-CONT-101\n",
            "EXP-2025-CONT-102\n",
            "RUSH-2024-CONT-103\n"
          ]
        }
      ]
    },
    {
      "cell_type": "markdown",
      "source": [
        "container[1] and container[2] accesses the latitude and longitude. container[3] accesses the fragile boolean.\n",
        "\n",
        "Step 3 could also be done in the for loop, if you chose to only use the default parameters: generate_tracking_code(container[0])"
      ],
      "metadata": {
        "id": "jJp1TCadHQ5x"
      }
    }
  ]
}
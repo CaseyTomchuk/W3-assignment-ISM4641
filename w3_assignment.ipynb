{
  "nbformat": 4,
  "nbformat_minor": 0,
  "metadata": {
    "colab": {
      "provenance": [],
      "authorship_tag": "ABX9TyNCeeAf58zEaGLaxrY4FYcW",
      "include_colab_link": true
    },
    "kernelspec": {
      "name": "python3",
      "display_name": "Python 3"
    },
    "language_info": {
      "name": "python"
    }
  },
  "cells": [
    {
      "cell_type": "markdown",
      "metadata": {
        "id": "view-in-github",
        "colab_type": "text"
      },
      "source": [
        "<a href=\"https://colab.research.google.com/github/CaseyTomchuk/W3-assignment-ISM4641/blob/main/w3_assignment.ipynb\" target=\"_parent\"><img src=\"https://colab.research.google.com/assets/colab-badge.svg\" alt=\"Open In Colab\"/></a>"
      ]
    },
    {
      "cell_type": "markdown",
      "source": [
        "The Summit Exports Scenario\n",
        "Summit Exports is a fictional logistics company shipping specialized items to various destinations. Your tasks:\n",
        "\n",
        "Use Tuples to store information about containers (container IDs, coordinates, fragile status, etc.).\n",
        "Use Sets to manage the list of unique destinations.\n",
        "Apply loops (such as for or while) and conditional statements (if, elif, else) to demonstrate membership checks and data manipulations in sets.\n",
        "Present the results in a clear, step-by-step manner, using print statements and f-strings."
      ],
      "metadata": {
        "id": "munVquLvJ2Vo"
      }
    },
    {
      "cell_type": "markdown",
      "source": [
        "The Summit Exports Scenario\n",
        "Summit Exports is a fictional logistics company shipping specialized items to various destinations. Your tasks:\n",
        "\n",
        "Use Tuples to store information about containers (container IDs, coordinates, fragile status, etc.).\n",
        "Use Sets to manage the list of unique destinations.\n",
        "Apply loops (such as for or while) and conditional statements (if, elif, else) to demonstrate membership checks and data manipulations in sets.\n",
        "Present the results in a clear, step-by-step manner, using print statements and f-strings."
      ],
      "metadata": {
        "id": "sBeAlNI6J30h"
      }
    },
    {
      "cell_type": "code",
      "execution_count": 8,
      "metadata": {
        "colab": {
          "base_uri": "https://localhost:8080/"
        },
        "id": "ejcKBT0oJpzH",
        "outputId": "7247e286-7d4d-4c6c-b299-08b55b1e6cdd"
      },
      "outputs": [
        {
          "output_type": "stream",
          "name": "stdout",
          "text": [
            "Container A: ('CONT-101', 40.7128, -74.006, True)\n",
            "Container B: ('CONT-102', 34.0522, -118.2437, False)\n",
            "Container C: ('CONT-103', 41.8781, -87.6298, True)\n",
            "'tuple' object does not support item assignment\n",
            "\n",
            "Container ID: CONT-101, Latitude: 40.7128 Longitude: -74.006, Fragile: True\n"
          ]
        }
      ],
      "source": [
        "# Task 1, container data\n",
        "container_a = ('CONT-101', 40.7128, -74.006, True)\n",
        "container_b =('CONT-102', 34.0522, -118.2437, False)\n",
        "container_c = ('CONT-103', 41.8781, -87.6298, True)\n",
        "\n",
        "print(\"Container A:\", container_a)\n",
        "print(\"Container B:\", container_b)\n",
        "print(\"Container C:\", container_c)\n",
        "\n",
        "try:\n",
        "  container_a[1] = 41.0\n",
        "except Exception as e:\n",
        "  print(e) # *\n",
        "\n",
        "  cont_id, lat, lng, fragile = container_a\n",
        "\n",
        "  print(f'\\nContainer ID: {cont_id}, Latitude: {lat} Longitude: {lng}, Fragile: {fragile}')"
      ]
    },
    {
      "cell_type": "markdown",
      "source": [
        "`*` tuples are immutable, you can't add, remove, or reassign items in it. The error message for reassignment is: 'tuple' object does not support item assignment\n"
      ],
      "metadata": {
        "id": "0WLWEOU-NK2B"
      }
    },
    {
      "cell_type": "code",
      "source": [
        "# Task 2: Processing Container Data\n",
        "\n",
        "def calculate_shipping_cost(distance, weight, is_fragile):\n",
        "    base_cost = distance * 0.5 + weight * 0.1\n",
        "    if is_fragile:\n",
        "        base_cost *= 1.5  # 50% surcharge for fragile items\n",
        "    return base_cost"
      ],
      "metadata": {
        "id": "bzDYT8LNPcXg"
      },
      "execution_count": null,
      "outputs": []
    }
  ]
}